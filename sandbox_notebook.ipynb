{
 "cells": [
  {
   "cell_type": "code",
   "execution_count": null,
   "metadata": {},
   "outputs": [],
   "source": []
  },
  {
   "cell_type": "code",
   "execution_count": 37,
   "metadata": {},
   "outputs": [],
   "source": [
    "import json\n",
    "from datetime import datetime\n",
    "import pandas as pd\n",
    "from pathlib import Path\n",
    "import os\n"
   ]
  },
  {
   "cell_type": "code",
   "execution_count": 38,
   "metadata": {},
   "outputs": [],
   "source": [
    "pd.options.display.max_colwidth = None"
   ]
  },
  {
   "cell_type": "code",
   "execution_count": 39,
   "metadata": {},
   "outputs": [
    {
     "name": "stdout",
     "output_type": "stream",
     "text": [
      "Current working directory: /home/airvetra/projects/telegram-gpt-assistant\n",
      "File path: /mnt/c/Users/airve/Downloads/Telegram Desktop/ChatExport_2025-03-15 (1)/result.json\n",
      "File exists: True\n",
      "Is file: True\n",
      "          id     type                 date               from         from_id  \\\n",
      "0 -999868590  service  2024-10-22T12:50:43                NaN             NaN   \n",
      "1 -999868589  service  2024-10-22T12:51:16                NaN             NaN   \n",
      "2 -999868587  message  2024-10-22T12:52:43  Alexey Goloviznin   user100514479   \n",
      "3 -999868586  message  2024-10-22T12:53:37    Сергей Курдюков  user1473373557   \n",
      "4 -999868585  message  2024-10-22T12:57:55  Alexey Goloviznin   user100514479   \n",
      "\n",
      "                                                                                             text  \\\n",
      "0                                                                                                   \n",
      "1                                                                                                   \n",
      "2  Кристя, Сережа, хочу нас замотивировать и уже более детально обсуждать тут с записью истории:)   \n",
      "3                                                                        Горизонт надо выпрямить)   \n",
      "4                                                           Да, лучше другую фото - под рукой нет   \n",
      "\n",
      "  media_type file  width  height  duration_seconds  \n",
      "0        NaN  NaN    NaN     NaN               NaN  \n",
      "1        NaN  NaN  640.0   640.0               NaN  \n",
      "2        NaN  NaN    NaN     NaN               NaN  \n",
      "3        NaN  NaN    NaN     NaN               NaN  \n",
      "4        NaN  NaN    NaN     NaN               NaN  \n",
      "<class 'pandas.core.frame.DataFrame'>\n",
      "RangeIndex: 714 entries, 0 to 713\n",
      "Data columns (total 11 columns):\n",
      " #   Column            Non-Null Count  Dtype  \n",
      "---  ------            --------------  -----  \n",
      " 0   id                714 non-null    int64  \n",
      " 1   type              714 non-null    object \n",
      " 2   date              714 non-null    object \n",
      " 3   from              703 non-null    object \n",
      " 4   from_id           703 non-null    object \n",
      " 5   text              714 non-null    object \n",
      " 6   media_type        28 non-null     object \n",
      " 7   file              39 non-null     object \n",
      " 8   width             88 non-null     float64\n",
      " 9   height            88 non-null     float64\n",
      " 10  duration_seconds  28 non-null     float64\n",
      "dtypes: float64(3), int64(1), object(7)\n",
      "memory usage: 61.5+ KB\n",
      "None\n"
     ]
    }
   ],
   "source": [
    "\n",
    "print(f\"Current working directory: {os.getcwd()}\")\n",
    "\n",
    "def load_telegram_export(json_file_path):\n",
    "    \"\"\"\n",
    "    Загружает данные из JSON-файла экспорта Telegram в pandas DataFrame.\n",
    "\n",
    "    Args:\n",
    "        json_file_path (str or Path): Путь к файлу result.json.\n",
    "\n",
    "    Returns:\n",
    "        pandas.DataFrame: DataFrame с данными сообщений.  Или None, если произошла ошибка.\n",
    "    \"\"\"\n",
    "    try:\n",
    "        # Вариант с Path\n",
    "        json_file_path = Path(json_file_path)\n",
    "        with open(json_file_path, 'r', encoding='utf-8') as f:\n",
    "            data = json.load(f)\n",
    "\n",
    "    except FileNotFoundError:\n",
    "        print(f\"Error: File not found: {json_file_path}\")\n",
    "        return None\n",
    "    except json.JSONDecodeError:\n",
    "        print(f\"Error: Invalid JSON format in file: {json_file_path}\")\n",
    "        return None\n",
    "    except Exception as e:\n",
    "        print(f\"An unexpected error occurred: {e}\")\n",
    "        return None\n",
    "\n",
    "    # Создаем DataFrame из списка сообщений\n",
    "    df = pd.DataFrame(data['messages'])\n",
    "\n",
    "    # Оставляем только нужные колонки (можно добавить/удалить по необходимости)\n",
    "    df = df[['id', 'type', 'date', 'from', 'from_id', 'text', 'media_type', 'file', 'width', 'height', 'duration_seconds']]\n",
    "    return df\n",
    "\n",
    "# Пример использования (вариант с Path - РЕКОМЕНДУЕТСЯ)\n",
    "file_path = Path('/mnt/c/Users/airve/Downloads/Telegram Desktop/ChatExport_2025-03-15 (1)/result.json')\n",
    "print(f\"File path: {file_path}\")\n",
    "print(f\"File exists: {os.path.exists(file_path)}\")\n",
    "print(f\"Is file: {os.path.isfile(file_path)}\")\n",
    "\n",
    "\n",
    "# # Пример использования (вариант со строкой и ПРЯМЫМИ слешами)\n",
    "# file_path = '/mnt/c/Users/airve/Downloads/Telegram Desktop/ChatExport_2025-03-15 (1)/result.json'\n",
    "# print(f\"File path: {file_path}\")\n",
    "# print(f\"File exists: {os.path.exists(file_path)}\")\n",
    "# print(f\"Is file: {os.path.isfile(file_path)}\")\n",
    "\n",
    "\n",
    "df = load_telegram_export(file_path)\n",
    "\n",
    "if df is not None:\n",
    "    print(df.head())\n",
    "    print(df.info())\n"
   ]
  },
  {
   "cell_type": "code",
   "execution_count": 40,
   "metadata": {},
   "outputs": [
    {
     "data": {
      "text/plain": [
       "Index(['id', 'type', 'date', 'from', 'from_id', 'text', 'media_type', 'file',\n",
       "       'width', 'height', 'duration_seconds'],\n",
       "      dtype='object')"
      ]
     },
     "execution_count": 40,
     "metadata": {},
     "output_type": "execute_result"
    }
   ],
   "source": [
    "df.columns\n"
   ]
  },
  {
   "cell_type": "code",
   "execution_count": 41,
   "metadata": {},
   "outputs": [
    {
     "data": {
      "text/html": [
       "<div>\n",
       "<style scoped>\n",
       "    .dataframe tbody tr th:only-of-type {\n",
       "        vertical-align: middle;\n",
       "    }\n",
       "\n",
       "    .dataframe tbody tr th {\n",
       "        vertical-align: top;\n",
       "    }\n",
       "\n",
       "    .dataframe thead th {\n",
       "        text-align: right;\n",
       "    }\n",
       "</style>\n",
       "<table border=\"1\" class=\"dataframe\">\n",
       "  <thead>\n",
       "    <tr style=\"text-align: right;\">\n",
       "      <th></th>\n",
       "      <th>date</th>\n",
       "      <th>from</th>\n",
       "      <th>text</th>\n",
       "    </tr>\n",
       "  </thead>\n",
       "  <tbody>\n",
       "    <tr>\n",
       "      <th>0</th>\n",
       "      <td>2024-10-22T12:50:43</td>\n",
       "      <td>NaN</td>\n",
       "      <td></td>\n",
       "    </tr>\n",
       "    <tr>\n",
       "      <th>1</th>\n",
       "      <td>2024-10-22T12:51:16</td>\n",
       "      <td>NaN</td>\n",
       "      <td></td>\n",
       "    </tr>\n",
       "    <tr>\n",
       "      <th>2</th>\n",
       "      <td>2024-10-22T12:52:43</td>\n",
       "      <td>Alexey Goloviznin</td>\n",
       "      <td>Кристя, Сережа, хочу нас замотивировать и уже более детально обсуждать тут с записью истории:)</td>\n",
       "    </tr>\n",
       "    <tr>\n",
       "      <th>3</th>\n",
       "      <td>2024-10-22T12:53:37</td>\n",
       "      <td>Сергей Курдюков</td>\n",
       "      <td>Горизонт надо выпрямить)</td>\n",
       "    </tr>\n",
       "    <tr>\n",
       "      <th>4</th>\n",
       "      <td>2024-10-22T12:57:55</td>\n",
       "      <td>Alexey Goloviznin</td>\n",
       "      <td>Да, лучше другую фото - под рукой нет</td>\n",
       "    </tr>\n",
       "  </tbody>\n",
       "</table>\n",
       "</div>"
      ],
      "text/plain": [
       "                  date               from  \\\n",
       "0  2024-10-22T12:50:43                NaN   \n",
       "1  2024-10-22T12:51:16                NaN   \n",
       "2  2024-10-22T12:52:43  Alexey Goloviznin   \n",
       "3  2024-10-22T12:53:37    Сергей Курдюков   \n",
       "4  2024-10-22T12:57:55  Alexey Goloviznin   \n",
       "\n",
       "                                                                                             text  \n",
       "0                                                                                                  \n",
       "1                                                                                                  \n",
       "2  Кристя, Сережа, хочу нас замотивировать и уже более детально обсуждать тут с записью истории:)  \n",
       "3                                                                        Горизонт надо выпрямить)  \n",
       "4                                                           Да, лучше другую фото - под рукой нет  "
      ]
     },
     "execution_count": 41,
     "metadata": {},
     "output_type": "execute_result"
    }
   ],
   "source": [
    "df[ ['date', 'from',  'text']].head()"
   ]
  },
  {
   "cell_type": "code",
   "execution_count": 42,
   "metadata": {},
   "outputs": [],
   "source": [
    "df['date'] = pd.to_datetime(df['date'])\n"
   ]
  },
  {
   "cell_type": "code",
   "execution_count": null,
   "metadata": {},
   "outputs": [],
   "source": [
    "df['text'] = df['text'].astype(str)\n"
   ]
  },
  {
   "cell_type": "code",
   "execution_count": 45,
   "metadata": {},
   "outputs": [
    {
     "data": {
      "text/plain": [
       "np.int64(0)"
      ]
     },
     "execution_count": 45,
     "metadata": {},
     "output_type": "execute_result"
    }
   ],
   "source": [
    "df['text'].isnull().sum()\n"
   ]
  },
  {
   "cell_type": "code",
   "execution_count": 43,
   "metadata": {},
   "outputs": [
    {
     "data": {
      "text/plain": [
       "2    Кристя, Сережа, хочу нас замотивировать и уже более детально обсуждать тут с записью истории:)\n",
       "Name: text, dtype: object"
      ]
     },
     "execution_count": 43,
     "metadata": {},
     "output_type": "execute_result"
    }
   ],
   "source": [
    "df[df['date'] == \"2024-10-22 12:52:43\"]['text']"
   ]
  },
  {
   "cell_type": "code",
   "execution_count": null,
   "metadata": {},
   "outputs": [],
   "source": []
  }
 ],
 "metadata": {
  "kernelspec": {
   "display_name": "venv",
   "language": "python",
   "name": "python3"
  },
  "language_info": {
   "codemirror_mode": {
    "name": "ipython",
    "version": 3
   },
   "file_extension": ".py",
   "mimetype": "text/x-python",
   "name": "python",
   "nbconvert_exporter": "python",
   "pygments_lexer": "ipython3",
   "version": "3.12.3"
  }
 },
 "nbformat": 4,
 "nbformat_minor": 2
}
